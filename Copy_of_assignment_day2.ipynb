{
  "cells": [
    {
      "cell_type": "markdown",
      "metadata": {
        "id": "view-in-github",
        "colab_type": "text"
      },
      "source": [
        "<a href=\"https://colab.research.google.com/github/akshitsingla21/pythonakshit/blob/main/Copy_of_assignment_day2.ipynb\" target=\"_parent\"><img src=\"https://colab.research.google.com/assets/colab-badge.svg\" alt=\"Open In Colab\"/></a>"
      ]
    },
    {
      "cell_type": "markdown",
      "source": [
        "#QUESTION 1\n"
      ],
      "metadata": {
        "id": "v6zDFDLW2pLM"
      }
    },
    {
      "cell_type": "code",
      "source": [
        "L=[11,12,13,14]\n",
        "L.append(50)\n",
        "L.append(60)\n",
        "print(L)\n",
        "L.index(11)\n"
      ],
      "metadata": {
        "colab": {
          "base_uri": "https://localhost:8080/"
        },
        "id": "1iHpcqeIn9V9",
        "outputId": "6f9e1d01-19d1-4e33-8ed8-0ec83eec438c"
      },
      "execution_count": null,
      "outputs": [
        {
          "output_type": "stream",
          "name": "stdout",
          "text": [
            "[11, 12, 13, 14, 50, 60]\n"
          ]
        },
        {
          "output_type": "execute_result",
          "data": {
            "text/plain": [
              "0"
            ]
          },
          "metadata": {},
          "execution_count": 15
        }
      ]
    },
    {
      "cell_type": "code",
      "source": [
        "L=[11,12,13,14]\n",
        "d={11,13}\n",
        "for i in d:\n",
        "  index= L.index(i)\n",
        "  del L[index]\n",
        "\n",
        "print(L)"
      ],
      "metadata": {
        "colab": {
          "base_uri": "https://localhost:8080/"
        },
        "id": "Thj21HtSsTQ4",
        "outputId": "744ef20b-0fa7-40bb-f0d6-5143da340bdc"
      },
      "execution_count": null,
      "outputs": [
        {
          "output_type": "stream",
          "name": "stdout",
          "text": [
            "[12, 14]\n"
          ]
        }
      ]
    },
    {
      "cell_type": "code",
      "source": [],
      "metadata": {
        "id": "TIO7HIeeRCwT"
      },
      "execution_count": null,
      "outputs": []
    },
    {
      "cell_type": "code",
      "source": [
        "L=[12,11,13,14]\n",
        "L.sort()\n",
        "print(L)"
      ],
      "metadata": {
        "colab": {
          "base_uri": "https://localhost:8080/"
        },
        "id": "g6JuXds-OMQ9",
        "outputId": "e14db933-913f-4269-c124-dff9aa0bbfc3"
      },
      "execution_count": null,
      "outputs": [
        {
          "output_type": "stream",
          "name": "stdout",
          "text": [
            "[11, 12, 13, 14]\n"
          ]
        }
      ]
    },
    {
      "cell_type": "code",
      "source": [
        "L=[11,12,13,14]\n",
        "L.sort(reverse=True)\n",
        "print(L)"
      ],
      "metadata": {
        "colab": {
          "base_uri": "https://localhost:8080/"
        },
        "id": "V8WXNo-4REqU",
        "outputId": "f3d2b0a8-c833-4e1f-bf3b-bd810f0cca9a"
      },
      "execution_count": null,
      "outputs": [
        {
          "output_type": "stream",
          "name": "stdout",
          "text": [
            "[14, 13, 12, 11]\n"
          ]
        }
      ]
    },
    {
      "cell_type": "code",
      "source": [
        "L=[11,12,13,14]\n",
        "if 13 in L:\n",
        "  print(\"13 is present\")\n",
        "else:\n",
        "  print(\"13 is not present\")"
      ],
      "metadata": {
        "colab": {
          "base_uri": "https://localhost:8080/"
        },
        "id": "jQTaT9ccRWeU",
        "outputId": "7474af3c-f758-422f-f98d-969198312611"
      },
      "execution_count": null,
      "outputs": [
        {
          "output_type": "stream",
          "name": "stdout",
          "text": [
            "13 is present\n"
          ]
        }
      ]
    },
    {
      "cell_type": "code",
      "source": [
        "L=[11,12,13,14]\n",
        "print(len(L))\n"
      ],
      "metadata": {
        "colab": {
          "base_uri": "https://localhost:8080/"
        },
        "id": "L55nIbrdWeTM",
        "outputId": "ae4a87aa-dbcc-4640-9a7f-64822088a0f5"
      },
      "execution_count": null,
      "outputs": [
        {
          "output_type": "stream",
          "name": "stdout",
          "text": [
            "4\n"
          ]
        }
      ]
    },
    {
      "cell_type": "code",
      "source": [
        "L=[11,12,13,14]\n",
        "print(sum(L))\n"
      ],
      "metadata": {
        "colab": {
          "base_uri": "https://localhost:8080/"
        },
        "id": "Z4uy-f9hm-Q0",
        "outputId": "29486bc0-0ba6-4233-d23b-3af4597e4885"
      },
      "execution_count": null,
      "outputs": [
        {
          "output_type": "stream",
          "name": "stdout",
          "text": [
            "50\n"
          ]
        }
      ]
    },
    {
      "cell_type": "code",
      "source": [
        "L=[11,12,13,14]\n",
        "sum=0\n",
        "for i in L:\n",
        " if i%2 != 0:\n",
        "  sum=sum+i\n",
        "print(\"sum of odd numbers is\",sum) "
      ],
      "metadata": {
        "colab": {
          "base_uri": "https://localhost:8080/"
        },
        "id": "nDkKTpJtnUBx",
        "outputId": "e1b283d2-9a56-459b-c754-a1db48c04de9"
      },
      "execution_count": null,
      "outputs": [
        {
          "output_type": "stream",
          "name": "stdout",
          "text": [
            "sum of odd numbers is 24\n"
          ]
        }
      ]
    },
    {
      "cell_type": "code",
      "source": [
        "L=[11,12,13,14]\n",
        "sum=0\n",
        "for i in L:\n",
        " if i%2 == 0:\n",
        "  sum=sum+i\n",
        "print(\"sum of even numbers is\",sum) "
      ],
      "metadata": {
        "colab": {
          "base_uri": "https://localhost:8080/"
        },
        "id": "27-7Wt9JpAPX",
        "outputId": "93d1a717-8595-4171-9199-b405d21c5e9a"
      },
      "execution_count": null,
      "outputs": [
        {
          "output_type": "stream",
          "name": "stdout",
          "text": [
            "sum of even numbers is 26\n"
          ]
        }
      ]
    },
    {
      "cell_type": "code",
      "source": [
        "L=[11,12,13,14]\n",
        "sum=0\n",
        "\n",
        "for i in L:\n",
        " c=0 \n",
        " for g in range(2,i//2+1):\n",
        "  if i%g==0:\n",
        "   c=c+1\n",
        " if c==0:  \n",
        "  sum=sum+i\n",
        "print(\"sum of prime numbers is\",sum)    "
      ],
      "metadata": {
        "colab": {
          "base_uri": "https://localhost:8080/"
        },
        "id": "cO5NO4r3pNqC",
        "outputId": "f3a17f22-ec83-42bf-9bc0-e3ea9da10100"
      },
      "execution_count": null,
      "outputs": [
        {
          "output_type": "stream",
          "name": "stdout",
          "text": [
            "sum of prime numbers is 24\n"
          ]
        }
      ]
    },
    {
      "cell_type": "code",
      "source": [
        "L=[11,12,13,14]\n",
        "L.clear()\n",
        "print(L)"
      ],
      "metadata": {
        "id": "sFV1NpD-u1_r",
        "outputId": "6b45c30d-8391-4a55-bba1-5cbdf2ca4935",
        "colab": {
          "base_uri": "https://localhost:8080/"
        }
      },
      "execution_count": null,
      "outputs": [
        {
          "output_type": "stream",
          "name": "stdout",
          "text": [
            "[]\n"
          ]
        }
      ]
    },
    {
      "cell_type": "code",
      "source": [
        "L=[11,12,13,14]\n",
        "print(L)\n",
        "del(L)"
      ],
      "metadata": {
        "id": "QtR1Kw2f0zK9",
        "outputId": "acb160a3-7fe7-48e2-bbfa-cc5ca7c06fa0",
        "colab": {
          "base_uri": "https://localhost:8080/"
        }
      },
      "execution_count": null,
      "outputs": [
        {
          "output_type": "stream",
          "name": "stdout",
          "text": [
            "[11, 12, 13, 14]\n"
          ]
        }
      ]
    },
    {
      "cell_type": "markdown",
      "source": [
        "# question 2\n"
      ],
      "metadata": {
        "id": "bzbqLu2a2vMP"
      }
    },
    {
      "cell_type": "code",
      "source": [
        "D={1:5.6,2:7.8,3:6.6,4:8.7,5:7.7}\n",
        "D[8]=8.8\n",
        "print(D)"
      ],
      "metadata": {
        "id": "9Hns9qyS3_xA",
        "outputId": "bfd6f5fc-046d-4813-95bd-5c9155a8a6ee",
        "colab": {
          "base_uri": "https://localhost:8080/"
        }
      },
      "execution_count": null,
      "outputs": [
        {
          "output_type": "stream",
          "name": "stdout",
          "text": [
            "{1: 5.6, 2: 7.8, 3: 6.6, 4: 8.7, 5: 7.7, 8: 8.8}\n"
          ]
        }
      ]
    },
    {
      "cell_type": "code",
      "source": [
        "D={1:5.6,2:7.8,3:6.6,4:8.7,5:7.7}\n",
        "del D[2]\n",
        "print(D)\n"
      ],
      "metadata": {
        "id": "0PAVmNXZ28Bm",
        "outputId": "5353c655-a3f7-4ef1-a115-0f4efa1a3b34",
        "colab": {
          "base_uri": "https://localhost:8080/"
        }
      },
      "execution_count": null,
      "outputs": [
        {
          "output_type": "stream",
          "name": "stdout",
          "text": [
            "{1: 5.6, 3: 6.6, 4: 8.7, 5: 7.7}\n"
          ]
        }
      ]
    },
    {
      "cell_type": "code",
      "source": [
        "D={1:5.6,2:7.8,3:6.6,4:8.7,5:7.7}\n",
        "if 6 in D:\n",
        "  print(\"6 is present\")\n",
        "else:\n",
        "    print(\"6 is not present\")"
      ],
      "metadata": {
        "id": "sukHEKZk3MMI",
        "outputId": "6fc478a9-810d-4ddb-adde-7dc86e7147f4",
        "colab": {
          "base_uri": "https://localhost:8080/"
        }
      },
      "execution_count": null,
      "outputs": [
        {
          "output_type": "stream",
          "name": "stdout",
          "text": [
            "6 is not present\n"
          ]
        }
      ]
    },
    {
      "cell_type": "code",
      "source": [
        "D={1:5.6,2:7.8,3:6.6,4:8.7,5:7.7}\n",
        "c=0\n",
        "for i in D:\n",
        "  c=c+1\n",
        "print(\"the number of elements are \",i)  "
      ],
      "metadata": {
        "id": "LTv_bg0j5hig",
        "outputId": "5e0c1300-e08b-4c3b-bf4f-0cb14aa54eb4",
        "colab": {
          "base_uri": "https://localhost:8080/"
        }
      },
      "execution_count": null,
      "outputs": [
        {
          "output_type": "stream",
          "name": "stdout",
          "text": [
            "the number of elements are  5\n"
          ]
        }
      ]
    },
    {
      "cell_type": "code",
      "source": [
        "D={1:5.6,2:7.8,3:6.6,4:8.7,5:7.7}\n",
        "sum=0\n",
        "for i in D:\n",
        "  sum=sum+D[i]\n",
        "print(sum)  "
      ],
      "metadata": {
        "id": "JwRuBGtE_-qu",
        "outputId": "66bf8d49-0087-48c9-fe0c-606958c047c3",
        "colab": {
          "base_uri": "https://localhost:8080/"
        }
      },
      "execution_count": null,
      "outputs": [
        {
          "output_type": "stream",
          "name": "stdout",
          "text": [
            "36.4\n"
          ]
        }
      ]
    },
    {
      "cell_type": "code",
      "source": [
        "D={1:5.6,2:7.8,3:6.6,4:8.7,5:7.7}\n",
        "D[3]=7.1\n",
        "print(D)\n"
      ],
      "metadata": {
        "id": "k8d2xFZ0AWci",
        "outputId": "b8cbeb08-aca1-4ecb-dad2-8cf8480e747d",
        "colab": {
          "base_uri": "https://localhost:8080/"
        }
      },
      "execution_count": null,
      "outputs": [
        {
          "output_type": "stream",
          "name": "stdout",
          "text": [
            "{1: 5.6, 2: 7.8, 3: 7.1, 4: 8.7, 5: 7.7}\n"
          ]
        }
      ]
    },
    {
      "cell_type": "code",
      "source": [
        "D={1:5.6,2:7.8,3:6.6,4:8.7,5:7.7}\n",
        "D.clear()"
      ],
      "metadata": {
        "id": "kg6oBSVuBAqA"
      },
      "execution_count": null,
      "outputs": []
    },
    {
      "cell_type": "markdown",
      "source": [
        "#QUESTION3\n"
      ],
      "metadata": {
        "id": "k506RKvN209Y"
      }
    },
    {
      "cell_type": "code",
      "source": [
        "s1=set([10,20,30,40,50,60])\n",
        "s2=set([40,50,60,70,80,90])\n",
        "s1.add(55)\n",
        "s1.add(65)\n",
        "print(s1,s2)\n"
      ],
      "metadata": {
        "id": "jgryKOWWBMzj",
        "outputId": "5c87b3fd-22c0-4198-e080-409a3aa443cd",
        "colab": {
          "base_uri": "https://localhost:8080/"
        }
      },
      "execution_count": null,
      "outputs": [
        {
          "output_type": "stream",
          "name": "stdout",
          "text": [
            "{65, 40, 10, 50, 20, 55, 60, 30} {70, 40, 80, 50, 90, 60}\n"
          ]
        }
      ]
    },
    {
      "cell_type": "code",
      "source": [
        "s1=set([10,20,30,40,50,60])\n",
        "s2=([40,50,60,70,80,90])\n",
        "d=[10,30]\n",
        "for i in d:\n",
        " s1.remove(i)\n",
        "print(s1,s2)  \n"
      ],
      "metadata": {
        "id": "sNm8DennPBSo",
        "colab": {
          "base_uri": "https://localhost:8080/"
        },
        "outputId": "66e08961-38c7-4b05-f4f9-c27b9130ac73"
      },
      "execution_count": null,
      "outputs": [
        {
          "output_type": "stream",
          "name": "stdout",
          "text": [
            "{40, 50, 20, 60} [40, 50, 60, 70, 80, 90]\n"
          ]
        }
      ]
    },
    {
      "cell_type": "code",
      "source": [
        "s1=set([10,20,30,40,50,60])\n",
        "s2=set([40,50,60,70,80,90])\n",
        "print (\"40 is presentin s1-----\",40 in s1)\n"
      ],
      "metadata": {
        "colab": {
          "base_uri": "https://localhost:8080/"
        },
        "id": "boq87aYsRbj9",
        "outputId": "b7cdb66b-30e6-4fe1-9b04-035622bbfc7e"
      },
      "execution_count": null,
      "outputs": [
        {
          "output_type": "stream",
          "name": "stdout",
          "text": [
            "40 is presentin s1----- True\n"
          ]
        }
      ]
    },
    {
      "cell_type": "code",
      "source": [
        "s1=set([10,20,30,40,50,60])\n",
        "\n",
        "s2=set([40,50,60,70,80,90])\n",
        "s3=s1.union(s2)\n",
        "print(s3)\n"
      ],
      "metadata": {
        "colab": {
          "base_uri": "https://localhost:8080/"
        },
        "id": "TaCSkkoJTU5E",
        "outputId": "57f57197-56c8-489d-b0d5-c1d015499503"
      },
      "execution_count": null,
      "outputs": [
        {
          "output_type": "stream",
          "name": "stdout",
          "text": [
            "{70, 40, 10, 80, 50, 20, 90, 60, 30}\n"
          ]
        }
      ]
    },
    {
      "cell_type": "code",
      "source": [
        "s1=set([10,20,30,40,50,60])\n",
        "\n",
        "s2=set([40,50,60,70,80,90])\n",
        "s3=s1.intersection(s2)\n",
        "print(s3)\n"
      ],
      "metadata": {
        "colab": {
          "base_uri": "https://localhost:8080/"
        },
        "id": "DjUnVgsI6K-B",
        "outputId": "950fc564-3273-4a24-8bc8-8bfa478d561a"
      },
      "execution_count": null,
      "outputs": [
        {
          "output_type": "stream",
          "name": "stdout",
          "text": [
            "{40, 50, 60}\n"
          ]
        }
      ]
    },
    {
      "cell_type": "code",
      "source": [
        "s1=set([10,20,30,40,50,60])\n",
        "\n",
        "s2=set([40,50,60,70,80,90])\n",
        "s3=s1.difference(s2)\n",
        "print(s3)"
      ],
      "metadata": {
        "colab": {
          "base_uri": "https://localhost:8080/"
        },
        "id": "nXI3r6zz6Xkz",
        "outputId": "1368ab90-b4f4-4ba6-eb96-f82a99399963"
      },
      "execution_count": null,
      "outputs": [
        {
          "output_type": "stream",
          "name": "stdout",
          "text": [
            "{10, 20, 30}\n"
          ]
        }
      ]
    },
    {
      "cell_type": "markdown",
      "source": [
        "# Question 4\n"
      ],
      "metadata": {
        "id": "hGhkzMmW67am"
      }
    },
    {
      "cell_type": "code",
      "source": [
        "import string as s \n",
        "import random as r\n",
        "for i in range(0,100):\n",
        " len = r.randint(6,8)\n",
        " letters= r.sample(s.ascii_letters,len)\n",
        " print(''.join (letters))\n",
        "     "
      ],
      "metadata": {
        "colab": {
          "base_uri": "https://localhost:8080/"
        },
        "id": "qizpebsT7BJ4",
        "outputId": "7467020a-9ce0-45b2-ac87-695133bf3c7e"
      },
      "execution_count": 6,
      "outputs": [
        {
          "output_type": "stream",
          "name": "stdout",
          "text": [
            "ixQBYZds\n",
            "OgPwypL\n",
            "AzsJhp\n",
            "XUkQasrt\n",
            "CuxkGRW\n",
            "NhaDcslS\n",
            "FXjixLf\n",
            "LCJQsB\n",
            "DiKWuYs\n",
            "ksgBRVWf\n",
            "qsETIaV\n",
            "JPutTmlq\n",
            "kqbyWDxG\n",
            "omMQEJT\n",
            "nFMpTL\n",
            "atiFVoOI\n",
            "sGSTwWYL\n",
            "MvJCbd\n",
            "OltmzakK\n",
            "cKpCHNea\n",
            "JLtizQY\n",
            "pKznlFOc\n",
            "gBZrMmG\n",
            "vBryIA\n",
            "DbmxRf\n",
            "cGJzXCBd\n",
            "eQnjusrD\n",
            "rWfgxQN\n",
            "UJqhPXM\n",
            "zfVBgZXc\n",
            "TWRDKGl\n",
            "yuFLpYeg\n",
            "nQfMbcVA\n",
            "HiAxscD\n",
            "kgIdWcsN\n",
            "hptxVWo\n",
            "zOLSVYfp\n",
            "yFCEMG\n",
            "vOfJXWr\n",
            "opvXhF\n",
            "MviSTuN\n",
            "RMvKoWJl\n",
            "DLVzvTu\n",
            "OVFtJKl\n",
            "segpyfC\n",
            "vwHMkFx\n",
            "SljbEz\n",
            "zjudip\n",
            "BJMlkrWI\n",
            "dGQgrPWA\n",
            "qjAhwren\n",
            "OJMRGX\n",
            "Mzwjmd\n",
            "UOvRFso\n",
            "UHPduZ\n",
            "EoQpSYzs\n",
            "XUPGacRi\n",
            "pPIUbQ\n",
            "XMCVtFxy\n",
            "xAyXHpEY\n",
            "mqbdyG\n",
            "BDgIEbG\n",
            "fcMnRXx\n",
            "GmEOlFr\n",
            "oziTClAj\n",
            "yfogeWK\n",
            "GUAfoNeR\n",
            "YpkwKvF\n",
            "rupbaQG\n",
            "hfHzIT\n",
            "NGHnqKj\n",
            "vomiNg\n",
            "kczWrBo\n",
            "WRCwLPJl\n",
            "TXbopRkU\n",
            "oLkhalXn\n",
            "rYxKjZa\n",
            "fMmdUO\n",
            "bSupicgG\n",
            "YyMEqh\n",
            "QoFGIwpN\n",
            "ZKpigXt\n",
            "gpZctNo\n",
            "RpgyDrnk\n",
            "sitbhLPm\n",
            "lpbFKIx\n",
            "jecyuGJ\n",
            "qFynlxX\n",
            "BPNJaOig\n",
            "suniwr\n",
            "DoleaW\n",
            "YhDKfpw\n",
            "DwcbEsV\n",
            "mMCBAWLs\n",
            "LFPjglz\n",
            "hlgEqj\n",
            "maNbdiLM\n",
            "FqmwnL\n",
            "bNoFvR\n",
            "cXmxakdi\n"
          ]
        }
      ]
    },
    {
      "cell_type": "code",
      "source": [
        "\n",
        "for i in range(600,800):\n",
        "  f=0\n",
        "  for g in range(2,i//2+1):\n",
        "   if i%g==0:\n",
        "    f=1\n",
        "    break\n",
        "  if f==0:\n",
        "   print(i)\n"
      ],
      "metadata": {
        "colab": {
          "base_uri": "https://localhost:8080/"
        },
        "id": "6hhm1FcwEeY1",
        "outputId": "50447b30-0982-4e0f-cb10-94944be196d4"
      },
      "execution_count": null,
      "outputs": [
        {
          "output_type": "stream",
          "name": "stdout",
          "text": [
            "601\n",
            "607\n",
            "613\n",
            "617\n",
            "619\n",
            "631\n",
            "641\n",
            "643\n",
            "647\n",
            "653\n",
            "659\n",
            "661\n",
            "673\n",
            "677\n",
            "683\n",
            "691\n",
            "701\n",
            "709\n",
            "719\n",
            "727\n",
            "733\n",
            "739\n",
            "743\n",
            "751\n",
            "757\n",
            "761\n",
            "769\n",
            "773\n",
            "787\n",
            "797\n"
          ]
        }
      ]
    },
    {
      "cell_type": "code",
      "source": [
        "for i in range(100,1000):\n",
        " if i%7==0 and i%9==0:\n",
        "  print(i)"
      ],
      "metadata": {
        "colab": {
          "base_uri": "https://localhost:8080/"
        },
        "id": "VkeyfDLNG6VK",
        "outputId": "e316e3b0-3046-45be-937c-a3f63467d473"
      },
      "execution_count": null,
      "outputs": [
        {
          "output_type": "stream",
          "name": "stdout",
          "text": [
            "126\n",
            "189\n",
            "252\n",
            "315\n",
            "378\n",
            "441\n",
            "504\n",
            "567\n",
            "630\n",
            "693\n",
            "756\n",
            "819\n",
            "882\n",
            "945\n"
          ]
        }
      ]
    },
    {
      "cell_type": "markdown",
      "source": [
        "#question 5\n"
      ],
      "metadata": {
        "id": "FUVypRjHKx8q"
      }
    },
    {
      "cell_type": "code",
      "source": [
        "import random as r\n",
        "L1=[]\n",
        "L2=[]\n",
        "for i in range(10):\n",
        " L1.append(r.randint(10,30))\n",
        " L2.append(r.randint(10,30))\n",
        "print(L1,L2)\n",
        "\n",
        " \n",
        "\n",
        " "
      ],
      "metadata": {
        "id": "zrGMQiK6K2AT",
        "colab": {
          "base_uri": "https://localhost:8080/"
        },
        "outputId": "0f10e5ca-79a9-4644-f55f-aefe88cb27a5"
      },
      "execution_count": 9,
      "outputs": [
        {
          "output_type": "stream",
          "name": "stdout",
          "text": [
            "[22, 10, 12, 20, 29, 30, 12, 14, 30, 28] [26, 19, 17, 19, 26, 24, 15, 21, 27, 15]\n"
          ]
        }
      ]
    },
    {
      "cell_type": "code",
      "source": [
        "import random as r\n",
        "L1=[]\n",
        "L2=[]\n",
        "for i in range(0,10):\n",
        "  L1.append(r.randint(10,30))\n",
        "for i in range(0,10):\n",
        "  L2.append(r.randint(10,30)) \n",
        "print(L1,L2)  \n",
        "for i in range (0,10):\n",
        "  c=0\n",
        "  for j in range (0,10):\n",
        "    if L1[i] == L2[j]:\n",
        "      c=c+1\n",
        "  if c!=0:\n",
        "     print (L1[i])\n"
      ],
      "metadata": {
        "colab": {
          "base_uri": "https://localhost:8080/"
        },
        "id": "fqbOM3TSrFIX",
        "outputId": "c02c1d84-60e2-44a1-91e6-28b262038647"
      },
      "execution_count": 29,
      "outputs": [
        {
          "output_type": "stream",
          "name": "stdout",
          "text": [
            "[28, 14, 24, 14, 12, 25, 11, 28, 13, 11] [11, 29, 29, 15, 27, 14, 20, 21, 13, 17]\n",
            "14\n",
            "14\n",
            "11\n",
            "13\n",
            "11\n"
          ]
        }
      ]
    },
    {
      "cell_type": "code",
      "source": [
        "import random as r\n",
        "L1=[]\n",
        "L2=[]\n",
        "for i in range(0,10):\n",
        "  L1.append(r.randint(10,30))\n",
        "for i in range(0,10):\n",
        "  L2.append(r.randint(10,30)) \n",
        "print(L1,L2)  \n",
        "for i in range (0,10):\n",
        "  c=0\n",
        "  for j in range (0,10):\n",
        "    if L1[i] == L2[j]:\n",
        "      c=c+1\n",
        "  if c==0:\n",
        "     print (L1[i])\n",
        "for i in range (0,10):\n",
        "  c=0\n",
        "  for j in range (0,10):\n",
        "    if L2[i] == L1[j]:\n",
        "      c=c+1\n",
        "  if c==0:\n",
        "     print (L2[i])    \n",
        "\n"
      ],
      "metadata": {
        "colab": {
          "base_uri": "https://localhost:8080/"
        },
        "id": "KHZDZC4nrvX8",
        "outputId": "f4a235de-0bfd-44e0-a820-00d9b6fa07db"
      },
      "execution_count": 34,
      "outputs": [
        {
          "output_type": "stream",
          "name": "stdout",
          "text": [
            "[13, 13, 15, 24, 22, 22, 23, 17, 14, 11] [30, 18, 15, 29, 25, 13, 12, 11, 24, 26]\n",
            "22\n",
            "22\n",
            "23\n",
            "17\n",
            "14\n",
            "30\n",
            "18\n",
            "29\n",
            "25\n",
            "12\n",
            "26\n"
          ]
        }
      ]
    },
    {
      "cell_type": "code",
      "source": [
        "import random as r\n",
        "L1=[]\n",
        "L2=[]\n",
        "for i in range(10):\n",
        " L1.append(r.randint(10,30))\n",
        " L2.append(r.randint(10,30))\n",
        "print(L1,L2)\n",
        "L=L1+L2 \n",
        "print(max(L))\n"
      ],
      "metadata": {
        "colab": {
          "base_uri": "https://localhost:8080/"
        },
        "id": "s8oSIYensyjI",
        "outputId": "9fefad79-24f8-47e9-fa00-99c857f75592"
      },
      "execution_count": 15,
      "outputs": [
        {
          "output_type": "stream",
          "name": "stdout",
          "text": [
            "[15, 16, 15, 17, 28, 30, 30, 14, 26, 10] [16, 10, 13, 26, 10, 20, 26, 13, 21, 17]\n",
            "30\n"
          ]
        }
      ]
    },
    {
      "cell_type": "code",
      "source": [
        "import random as r\n",
        "L1=[]\n",
        "L2=[]\n",
        "for i in range(10):\n",
        " L1.append(r.randint(10,30))\n",
        " L2.append(r.randint(10,30))\n",
        "print(L1,L2)\n",
        "L=L1+L2 \n",
        "print(min(L))"
      ],
      "metadata": {
        "colab": {
          "base_uri": "https://localhost:8080/"
        },
        "id": "aNlffnVls_1_",
        "outputId": "1ad0f050-17c4-4fc9-98e4-51c220c6152f"
      },
      "execution_count": 16,
      "outputs": [
        {
          "output_type": "stream",
          "name": "stdout",
          "text": [
            "[21, 19, 23, 27, 20, 20, 30, 26, 10, 21] [14, 13, 14, 17, 26, 28, 27, 23, 30, 30]\n",
            "10\n"
          ]
        }
      ]
    },
    {
      "cell_type": "code",
      "source": [
        "import random as r\n",
        "L1=[]\n",
        "L2=[]\n",
        "for i in range(10):\n",
        " L1.append(r.randint(10,30))\n",
        " L2.append(r.randint(10,30))\n",
        "print(L1,L2)\n",
        "L=L1+L2 \n",
        "print(sum(L))"
      ],
      "metadata": {
        "colab": {
          "base_uri": "https://localhost:8080/"
        },
        "id": "FMx4mMgxtTUO",
        "outputId": "b88c5b18-f2fa-406d-9bd7-8c3adc242ef6"
      },
      "execution_count": 17,
      "outputs": [
        {
          "output_type": "stream",
          "name": "stdout",
          "text": [
            "[19, 13, 27, 17, 23, 13, 17, 19, 18, 15] [25, 10, 12, 19, 18, 25, 23, 15, 10, 24]\n",
            "362\n"
          ]
        }
      ]
    },
    {
      "cell_type": "code",
      "source": [
        "import random as r\n",
        "L1=[]\n",
        "for i in range (100):\n",
        " L1.append(r.randint(100,900))\n",
        "print(L1)\n",
        "c=0\n",
        "for i in range(100):\n",
        " if L1[i]%2==0:            #even numbers\n",
        "  c=c+1\n",
        "  print(L1[i])\n",
        "\n"
      ],
      "metadata": {
        "colab": {
          "base_uri": "https://localhost:8080/"
        },
        "id": "kDP_KA66tlse",
        "outputId": "3fcf7b07-3f86-4fae-ca7d-fdf94347db7d"
      },
      "execution_count": 22,
      "outputs": [
        {
          "output_type": "stream",
          "name": "stdout",
          "text": [
            "[694, 885, 209, 766, 791, 136, 558, 742, 432, 276, 393, 335, 816, 297, 607, 807, 495, 380, 861, 352, 746, 229, 620, 632, 108, 855, 743, 566, 732, 564, 395, 340, 437, 850, 535, 858, 719, 336, 726, 371, 146, 516, 300, 721, 878, 316, 895, 202, 840, 885, 589, 433, 447, 275, 751, 495, 860, 757, 625, 629, 194, 317, 541, 711, 229, 124, 616, 111, 201, 136, 317, 836, 284, 435, 325, 869, 366, 158, 714, 187, 149, 422, 899, 435, 369, 535, 668, 249, 300, 384, 427, 388, 359, 696, 581, 249, 126, 761, 495, 567]\n",
            "694\n",
            "766\n",
            "136\n",
            "558\n",
            "742\n",
            "432\n",
            "276\n",
            "816\n",
            "380\n",
            "352\n",
            "746\n",
            "620\n",
            "632\n",
            "108\n",
            "566\n",
            "732\n",
            "564\n",
            "340\n",
            "850\n",
            "858\n",
            "336\n",
            "726\n",
            "146\n",
            "516\n",
            "300\n",
            "878\n",
            "316\n",
            "202\n",
            "840\n",
            "860\n",
            "194\n",
            "124\n",
            "616\n",
            "136\n",
            "836\n",
            "284\n",
            "366\n",
            "158\n",
            "714\n",
            "422\n",
            "668\n",
            "300\n",
            "384\n",
            "388\n",
            "696\n",
            "126\n"
          ]
        }
      ]
    },
    {
      "cell_type": "code",
      "source": [
        "import random as r\n",
        "L1=[]\n",
        "for i in range (100):\n",
        " L1.append(r.randint(100,900))\n",
        "print(L1)\n",
        "c=0\n",
        "for i in range(100):\n",
        " if L1[i]%2!=0:            #odd numbers\n",
        "  c=c+1\n",
        "  print(L1[i])\n"
      ],
      "metadata": {
        "colab": {
          "base_uri": "https://localhost:8080/"
        },
        "id": "VQuHmMXjvhhJ",
        "outputId": "f4a6c1e9-9fd8-4d0b-c6c2-633187549367"
      },
      "execution_count": 23,
      "outputs": [
        {
          "output_type": "stream",
          "name": "stdout",
          "text": [
            "[754, 861, 330, 666, 836, 704, 664, 526, 384, 135, 569, 161, 492, 238, 482, 248, 680, 741, 292, 633, 241, 584, 288, 180, 515, 124, 892, 391, 881, 410, 611, 193, 617, 104, 401, 172, 150, 824, 878, 180, 692, 243, 178, 513, 171, 342, 544, 881, 614, 607, 852, 867, 750, 265, 131, 857, 760, 671, 211, 611, 736, 115, 701, 135, 895, 334, 193, 458, 464, 684, 791, 450, 777, 560, 393, 279, 134, 567, 810, 106, 673, 312, 157, 863, 397, 719, 383, 315, 155, 847, 384, 219, 711, 525, 645, 531, 845, 713, 668, 900]\n",
            "861\n",
            "135\n",
            "569\n",
            "161\n",
            "741\n",
            "633\n",
            "241\n",
            "515\n",
            "391\n",
            "881\n",
            "611\n",
            "193\n",
            "617\n",
            "401\n",
            "243\n",
            "513\n",
            "171\n",
            "881\n",
            "607\n",
            "867\n",
            "265\n",
            "131\n",
            "857\n",
            "671\n",
            "211\n",
            "611\n",
            "115\n",
            "701\n",
            "135\n",
            "895\n",
            "193\n",
            "791\n",
            "777\n",
            "393\n",
            "279\n",
            "567\n",
            "673\n",
            "157\n",
            "863\n",
            "397\n",
            "719\n",
            "383\n",
            "315\n",
            "155\n",
            "847\n",
            "219\n",
            "711\n",
            "525\n",
            "645\n",
            "531\n",
            "845\n",
            "713\n"
          ]
        }
      ]
    },
    {
      "cell_type": "code",
      "source": [
        "import random as r\n",
        "L1=[]\n",
        "for i in range (100):\n",
        " L1.append(r.randint(100,900))\n",
        "print(L1)\n",
        "f=0\n",
        "for i in range(100):\n",
        "  for j in range(2,51):\n",
        "   if L1[i]%j==0:            \n",
        "    f=1\n",
        "    break\n",
        "   if f==0:  \n",
        "    print(L1[i])\n"
      ],
      "metadata": {
        "colab": {
          "base_uri": "https://localhost:8080/"
        },
        "id": "IRSrnzEUv93K",
        "outputId": "6b4a5552-afbf-494e-dd3a-0f4178397443"
      },
      "execution_count": 26,
      "outputs": [
        {
          "output_type": "stream",
          "name": "stdout",
          "text": [
            "[872, 827, 237, 606, 187, 720, 872, 499, 139, 347, 673, 654, 814, 349, 194, 481, 293, 355, 580, 717, 544, 678, 143, 701, 745, 571, 598, 861, 403, 780, 106, 715, 611, 309, 420, 544, 281, 472, 266, 247, 177, 643, 817, 816, 733, 212, 803, 304, 385, 561, 707, 148, 347, 776, 868, 611, 853, 206, 408, 444, 825, 502, 800, 326, 189, 437, 285, 533, 426, 629, 436, 469, 861, 518, 496, 188, 200, 750, 761, 190, 355, 265, 193, 101, 728, 704, 679, 841, 279, 263, 751, 879, 743, 279, 630, 647, 533, 560, 863, 377]\n"
          ]
        }
      ]
    },
    {
      "cell_type": "markdown",
      "source": [
        "#question 7\n"
      ],
      "metadata": {
        "id": "RznKfE6Uxqnq"
      }
    },
    {
      "cell_type": "code",
      "source": [
        "D={1:\"One\",2:\"Two\",3:\"Three\",4:\"Four\", 5:\"Five\"}\n",
        "fp=open('mj.txt','w')\n",
        "for i in D:\n",
        "    fp.write(str(i)+\" \")\n",
        "    fp.write(str(D[i]+\"\\n\"))\n",
        "fp.close()\n",
        "\n"
      ],
      "metadata": {
        "id": "2K8NnKl_xabx"
      },
      "execution_count": 46,
      "outputs": []
    },
    {
      "cell_type": "markdown",
      "source": [
        "#question 8"
      ],
      "metadata": {
        "id": "7oGnoJctjC-v"
      }
    },
    {
      "cell_type": "code",
      "source": [
        " L=[\"One\",\"Two\",\"Three\",\"Four\",\"Five\"]\n",
        " fp=open('mj.txt','w')\n",
        " for i in L:\n",
        "          print(i)\n",
        "          \n",
        "          fp.write(str(len(i))+str(i))\n",
        " fp.close()          \n",
        "\n",
        "  "
      ],
      "metadata": {
        "colab": {
          "base_uri": "https://localhost:8080/",
          "height": 252
        },
        "id": "Jg11QxqmEm7P",
        "outputId": "6bfc97cf-b51f-4e4f-a7bf-957782465320"
      },
      "execution_count": 57,
      "outputs": [
        {
          "output_type": "stream",
          "name": "stdout",
          "text": [
            "One\n"
          ]
        },
        {
          "output_type": "error",
          "ename": "TypeError",
          "evalue": "ignored",
          "traceback": [
            "\u001b[0;31m---------------------------------------------------------------------------\u001b[0m",
            "\u001b[0;31mTypeError\u001b[0m                                 Traceback (most recent call last)",
            "\u001b[0;32m<ipython-input-57-2526b04688d1>\u001b[0m in \u001b[0;36m<cell line: 3>\u001b[0;34m()\u001b[0m\n\u001b[1;32m      4\u001b[0m          \u001b[0mprint\u001b[0m\u001b[0;34m(\u001b[0m\u001b[0mi\u001b[0m\u001b[0;34m)\u001b[0m\u001b[0;34m\u001b[0m\u001b[0;34m\u001b[0m\u001b[0m\n\u001b[1;32m      5\u001b[0m \u001b[0;34m\u001b[0m\u001b[0m\n\u001b[0;32m----> 6\u001b[0;31m          \u001b[0mfp\u001b[0m\u001b[0;34m.\u001b[0m\u001b[0mwrite\u001b[0m\u001b[0;34m(\u001b[0m\u001b[0mstr\u001b[0m\u001b[0;34m(\u001b[0m\u001b[0mlen\u001b[0m\u001b[0;34m(\u001b[0m\u001b[0mi\u001b[0m\u001b[0;34m)\u001b[0m\u001b[0;34m)\u001b[0m\u001b[0;34m+\u001b[0m\u001b[0mstr\u001b[0m\u001b[0;34m(\u001b[0m\u001b[0mi\u001b[0m\u001b[0;34m)\u001b[0m\u001b[0;34m)\u001b[0m\u001b[0;34m\u001b[0m\u001b[0;34m\u001b[0m\u001b[0m\n\u001b[0m\u001b[1;32m      7\u001b[0m \u001b[0mfp\u001b[0m\u001b[0;34m.\u001b[0m\u001b[0mclose\u001b[0m\u001b[0;34m(\u001b[0m\u001b[0;34m)\u001b[0m\u001b[0;34m\u001b[0m\u001b[0;34m\u001b[0m\u001b[0m\n\u001b[1;32m      8\u001b[0m \u001b[0;34m\u001b[0m\u001b[0m\n",
            "\u001b[0;31mTypeError\u001b[0m: 'int' object is not callable"
          ]
        }
      ]
    },
    {
      "cell_type": "markdown",
      "source": [
        "#question 9"
      ],
      "metadata": {
        "id": "HocotfcvjG3S"
      }
    },
    {
      "cell_type": "markdown",
      "source": [
        "#question 10"
      ],
      "metadata": {
        "id": "yo1XfqpDjJap"
      }
    },
    {
      "cell_type": "code",
      "source": [
        "import string as s\n",
        "import random as r\n",
        "fp=open('mj.txt','w')\n",
        "for i in range(100):\n",
        "  length=r.randint(10,15)\n",
        "  name=r.sample(s.ascii_letters,length)\n",
        "  fp.write(str(name))\n",
        "fp.close()\n",
        "\n"
      ],
      "metadata": {
        "id": "cwg1ymHOxtut"
      },
      "execution_count": 63,
      "outputs": []
    },
    {
      "cell_type": "markdown",
      "source": [
        "#question 11"
      ],
      "metadata": {
        "id": "L2fcWaYujL93"
      }
    },
    {
      "cell_type": "code",
      "source": [
        "\n",
        "fp=open('mj.txt','w')\n",
        "f=0\n",
        "for i in range(600,800):\n",
        " for j in range(2,i//2+1):\n",
        "  if i%j==0:\n",
        "   f=1\n",
        "   break\n",
        "  if f==0:\n",
        "   fp.write(str(i)) "
      ],
      "metadata": {
        "id": "rdG4z8nXRx2R"
      },
      "execution_count": 65,
      "outputs": []
    },
    {
      "cell_type": "markdown",
      "source": [
        "#question 13"
      ],
      "metadata": {
        "id": "t3T3BpYjjXoo"
      }
    },
    {
      "cell_type": "code",
      "source": [
        "student_marks = {\n",
        "    \"ss\": [85, 90, 92, 88, 95],\n",
        "    \"as\": [92, 95, 89, 87, 98],\n",
        "    \"rs\": [78, 86, 92, 90, 83],\n",
        "    \"rb\": [95, 91, 93, 89, 87],\n",
        "    \"mj\": [88, 92, 87, 85, 90]\n",
        "}\n",
        "\n",
        "average_marks = {}\n",
        "for student, marks in student_marks.items():\n",
        "    average = sum(marks) / len(marks)\n",
        "    average_marks[student] = average\n",
        "\n",
        "\n",
        "max_student = max(average_marks, key=average_marks.get)\n",
        "max_average = average_marks[max_student]\n",
        "\n",
        "# Find the student with minimum average marks\n",
        "min_student = min(average_marks, key=average_marks.get)\n",
        "min_average = average_marks[min_student]\n",
        "\n",
        "# Print the results\n",
        "print(\"Student with maximum average marks:\")\n",
        "print(f\"Name: {max_student}\")\n",
        "print(f\"Average Marks: {max_average}\\n\")\n",
        "\n",
        "print(\"Student with minimum average marks:\")\n",
        "print(f\"Name: {min_student}\")\n",
        "print(f\"Average Marks: {min_average}\")"
      ],
      "metadata": {
        "id": "HhFTlbwOYTtQ"
      },
      "execution_count": null,
      "outputs": []
    },
    {
      "cell_type": "markdown",
      "source": [
        "#question 10"
      ],
      "metadata": {
        "id": "RMPbjY-EjcNM"
      }
    },
    {
      "cell_type": "code",
      "source": [
        "import time\n",
        "start =time.time()\n",
        "print(23*2)\n",
        "end=time.time()\n",
        "print(end-start)"
      ],
      "metadata": {
        "colab": {
          "base_uri": "https://localhost:8080/"
        },
        "id": "i4ZH5aMra9O4",
        "outputId": "1147061b-5ac0-4c83-e522-9fb1734921d2"
      },
      "execution_count": 74,
      "outputs": [
        {
          "output_type": "stream",
          "name": "stdout",
          "text": [
            "46\n",
            "0.0009551048278808594\n"
          ]
        }
      ]
    },
    {
      "cell_type": "markdown",
      "source": [
        "#question 12"
      ],
      "metadata": {
        "id": "kqMRe9MUkEeh"
      }
    },
    {
      "cell_type": "code",
      "source": [
        "import time\n",
        "import random as r\n",
        "from matplotlib import pyplot as plt\n",
        "num_elements = [5000, 10000, 15000, 20000, 25000]\n",
        "t = []\n",
        "for i in num_elements:\n",
        "\n",
        " L=[]\n",
        " for i in range(5000) :\n",
        "  L. append (r .randint (0,5000) )\n",
        " start = time.time()\n",
        " L.sort()\n",
        " end = time.time()\n",
        " t.append(end - start)\n",
        "print (t)\n",
        "plt.plot (num_elements,t)\n",
        "plt.xlabel(\"Number of Elements\")\n",
        "plt.ylabel (\"Time\")\n",
        "plt.show()"
      ],
      "metadata": {
        "colab": {
          "base_uri": "https://localhost:8080/",
          "height": 466
        },
        "id": "tbe8X832cFhn",
        "outputId": "dc63a736-1bba-4d76-8067-7c4b51f72ce3"
      },
      "execution_count": 80,
      "outputs": [
        {
          "output_type": "stream",
          "name": "stdout",
          "text": [
            "[0.003145456314086914, 0.0009238719940185547, 0.0007007122039794922, 0.0007104873657226562, 0.0006761550903320312]\n"
          ]
        },
        {
          "output_type": "display_data",
          "data": {
            "text/plain": [
              "<Figure size 640x480 with 1 Axes>"
            ],
            "image/png": "[encoded data removed]"
          },
          "metadata": {}
        }
      ]
    }
  ],
  "metadata": {
    "colab": {
      "provenance": [],
      "include_colab_link": true
    },
    "kernelspec": {
      "display_name": "Python 3",
      "name": "python3"
    }
  },
  "nbformat": 4,
  "nbformat_minor": 0
}